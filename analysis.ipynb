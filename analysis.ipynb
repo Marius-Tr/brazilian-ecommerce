{
 "cells": [
  {
   "cell_type": "code",
   "execution_count": 1,
   "id": "e90d012b-17ae-4f95-aeef-53d212616e84",
   "metadata": {},
   "outputs": [],
   "source": [
    "import pandas as pd"
   ]
  },
  {
   "cell_type": "code",
   "execution_count": 12,
   "id": "724b024f-fb5a-4d5d-8ad8-345e20a70c87",
   "metadata": {},
   "outputs": [],
   "source": [
    "orders = pd.read_csv('olist_orders_dataset.csv')\n",
    "customers = pd.read_csv('olist_customers_dataset.csv')\n",
    "products = pd.read_csv('olist_products_dataset.csv')\n",
    "sellers = pd.read_csv('olist_sellers_dataset.csv')\n",
    "payments = pd.read_csv('olist_order_payments_dataset.csv')\n",
    "reviews = pd.read_csv('olist_order_reviews_dataset.csv')\n",
    "geolocation = pd.read_csv('olist_geolocation_dataset.csv')\n",
    "order_items = pd.read_csv('olist_order_items_dataset.csv')"
   ]
  },
  {
   "cell_type": "code",
   "execution_count": 13,
   "id": "daa7d577-262d-4302-ad96-54420bd7f498",
   "metadata": {},
   "outputs": [
    {
     "data": {
      "text/html": [
       "<div>\n",
       "<style scoped>\n",
       "    .dataframe tbody tr th:only-of-type {\n",
       "        vertical-align: middle;\n",
       "    }\n",
       "\n",
       "    .dataframe tbody tr th {\n",
       "        vertical-align: top;\n",
       "    }\n",
       "\n",
       "    .dataframe thead th {\n",
       "        text-align: right;\n",
       "    }\n",
       "</style>\n",
       "<table border=\"1\" class=\"dataframe\">\n",
       "  <thead>\n",
       "    <tr style=\"text-align: right;\">\n",
       "      <th></th>\n",
       "      <th>order_id</th>\n",
       "      <th>customer_id</th>\n",
       "      <th>order_status</th>\n",
       "      <th>order_purchase_timestamp</th>\n",
       "      <th>order_approved_at</th>\n",
       "      <th>order_delivered_carrier_date</th>\n",
       "      <th>order_delivered_customer_date</th>\n",
       "      <th>order_estimated_delivery_date</th>\n",
       "    </tr>\n",
       "  </thead>\n",
       "  <tbody>\n",
       "    <tr>\n",
       "      <th>0</th>\n",
       "      <td>e481f51cbdc54678b7cc49136f2d6af7</td>\n",
       "      <td>9ef432eb6251297304e76186b10a928d</td>\n",
       "      <td>delivered</td>\n",
       "      <td>2017-10-02 10:56:33</td>\n",
       "      <td>2017-10-02 11:07:15</td>\n",
       "      <td>2017-10-04 19:55:00</td>\n",
       "      <td>2017-10-10 21:25:13</td>\n",
       "      <td>2017-10-18 00:00:00</td>\n",
       "    </tr>\n",
       "    <tr>\n",
       "      <th>1</th>\n",
       "      <td>53cdb2fc8bc7dce0b6741e2150273451</td>\n",
       "      <td>b0830fb4747a6c6d20dea0b8c802d7ef</td>\n",
       "      <td>delivered</td>\n",
       "      <td>2018-07-24 20:41:37</td>\n",
       "      <td>2018-07-26 03:24:27</td>\n",
       "      <td>2018-07-26 14:31:00</td>\n",
       "      <td>2018-08-07 15:27:45</td>\n",
       "      <td>2018-08-13 00:00:00</td>\n",
       "    </tr>\n",
       "    <tr>\n",
       "      <th>2</th>\n",
       "      <td>47770eb9100c2d0c44946d9cf07ec65d</td>\n",
       "      <td>41ce2a54c0b03bf3443c3d931a367089</td>\n",
       "      <td>delivered</td>\n",
       "      <td>2018-08-08 08:38:49</td>\n",
       "      <td>2018-08-08 08:55:23</td>\n",
       "      <td>2018-08-08 13:50:00</td>\n",
       "      <td>2018-08-17 18:06:29</td>\n",
       "      <td>2018-09-04 00:00:00</td>\n",
       "    </tr>\n",
       "    <tr>\n",
       "      <th>3</th>\n",
       "      <td>949d5b44dbf5de918fe9c16f97b45f8a</td>\n",
       "      <td>f88197465ea7920adcdbec7375364d82</td>\n",
       "      <td>delivered</td>\n",
       "      <td>2017-11-18 19:28:06</td>\n",
       "      <td>2017-11-18 19:45:59</td>\n",
       "      <td>2017-11-22 13:39:59</td>\n",
       "      <td>2017-12-02 00:28:42</td>\n",
       "      <td>2017-12-15 00:00:00</td>\n",
       "    </tr>\n",
       "    <tr>\n",
       "      <th>4</th>\n",
       "      <td>ad21c59c0840e6cb83a9ceb5573f8159</td>\n",
       "      <td>8ab97904e6daea8866dbdbc4fb7aad2c</td>\n",
       "      <td>delivered</td>\n",
       "      <td>2018-02-13 21:18:39</td>\n",
       "      <td>2018-02-13 22:20:29</td>\n",
       "      <td>2018-02-14 19:46:34</td>\n",
       "      <td>2018-02-16 18:17:02</td>\n",
       "      <td>2018-02-26 00:00:00</td>\n",
       "    </tr>\n",
       "  </tbody>\n",
       "</table>\n",
       "</div>"
      ],
      "text/plain": [
       "                           order_id                       customer_id  \\\n",
       "0  e481f51cbdc54678b7cc49136f2d6af7  9ef432eb6251297304e76186b10a928d   \n",
       "1  53cdb2fc8bc7dce0b6741e2150273451  b0830fb4747a6c6d20dea0b8c802d7ef   \n",
       "2  47770eb9100c2d0c44946d9cf07ec65d  41ce2a54c0b03bf3443c3d931a367089   \n",
       "3  949d5b44dbf5de918fe9c16f97b45f8a  f88197465ea7920adcdbec7375364d82   \n",
       "4  ad21c59c0840e6cb83a9ceb5573f8159  8ab97904e6daea8866dbdbc4fb7aad2c   \n",
       "\n",
       "  order_status order_purchase_timestamp    order_approved_at  \\\n",
       "0    delivered      2017-10-02 10:56:33  2017-10-02 11:07:15   \n",
       "1    delivered      2018-07-24 20:41:37  2018-07-26 03:24:27   \n",
       "2    delivered      2018-08-08 08:38:49  2018-08-08 08:55:23   \n",
       "3    delivered      2017-11-18 19:28:06  2017-11-18 19:45:59   \n",
       "4    delivered      2018-02-13 21:18:39  2018-02-13 22:20:29   \n",
       "\n",
       "  order_delivered_carrier_date order_delivered_customer_date  \\\n",
       "0          2017-10-04 19:55:00           2017-10-10 21:25:13   \n",
       "1          2018-07-26 14:31:00           2018-08-07 15:27:45   \n",
       "2          2018-08-08 13:50:00           2018-08-17 18:06:29   \n",
       "3          2017-11-22 13:39:59           2017-12-02 00:28:42   \n",
       "4          2018-02-14 19:46:34           2018-02-16 18:17:02   \n",
       "\n",
       "  order_estimated_delivery_date  \n",
       "0           2017-10-18 00:00:00  \n",
       "1           2018-08-13 00:00:00  \n",
       "2           2018-09-04 00:00:00  \n",
       "3           2017-12-15 00:00:00  \n",
       "4           2018-02-26 00:00:00  "
      ]
     },
     "execution_count": 13,
     "metadata": {},
     "output_type": "execute_result"
    }
   ],
   "source": [
    "orders.head()"
   ]
  },
  {
   "cell_type": "code",
   "execution_count": 14,
   "id": "bdfcff7d-611b-4725-82a1-4eef6aeab96b",
   "metadata": {},
   "outputs": [
    {
     "name": "stdout",
     "output_type": "stream",
     "text": [
      "<class 'pandas.core.frame.DataFrame'>\n",
      "RangeIndex: 99441 entries, 0 to 99440\n",
      "Data columns (total 8 columns):\n",
      " #   Column                         Non-Null Count  Dtype \n",
      "---  ------                         --------------  ----- \n",
      " 0   order_id                       99441 non-null  object\n",
      " 1   customer_id                    99441 non-null  object\n",
      " 2   order_status                   99441 non-null  object\n",
      " 3   order_purchase_timestamp       99441 non-null  object\n",
      " 4   order_approved_at              99281 non-null  object\n",
      " 5   order_delivered_carrier_date   97658 non-null  object\n",
      " 6   order_delivered_customer_date  96476 non-null  object\n",
      " 7   order_estimated_delivery_date  99441 non-null  object\n",
      "dtypes: object(8)\n",
      "memory usage: 6.1+ MB\n"
     ]
    }
   ],
   "source": [
    "orders.info()"
   ]
  },
  {
   "cell_type": "code",
   "execution_count": 15,
   "id": "b6433219-4a75-41e0-a81c-117f0a1b9850",
   "metadata": {},
   "outputs": [
    {
     "name": "stdout",
     "output_type": "stream",
     "text": [
      "Orders shape: (99441, 8)\n",
      "Customers shape: (99441, 5)\n",
      "Products shape: (32951, 9)\n",
      "Sellers shape: (3095, 4)\n",
      "Payments shape: (103886, 5)\n",
      "Reviews shape: (99224, 7)\n"
     ]
    }
   ],
   "source": [
    "# Shape (número de filas y columnas)\n",
    "print('Orders shape:', orders.shape)\n",
    "print('Customers shape:', customers.shape)\n",
    "print('Products shape:', products.shape)\n",
    "print('Sellers shape:', sellers.shape)\n",
    "print('Payments shape:', payments.shape)\n",
    "print('Reviews shape:', reviews.shape)"
   ]
  },
  {
   "cell_type": "code",
   "execution_count": 16,
   "id": "dd6742bb-8e1d-4251-b2d8-30232a5a7820",
   "metadata": {},
   "outputs": [
    {
     "name": "stdout",
     "output_type": "stream",
     "text": [
      "order_id                            0\n",
      "customer_id                         0\n",
      "order_status                        0\n",
      "order_purchase_timestamp            0\n",
      "order_approved_at                 160\n",
      "order_delivered_carrier_date     1783\n",
      "order_delivered_customer_date    2965\n",
      "order_estimated_delivery_date       0\n",
      "dtype: int64\n",
      "customer_id                 0\n",
      "customer_unique_id          0\n",
      "customer_zip_code_prefix    0\n",
      "customer_city               0\n",
      "customer_state              0\n",
      "dtype: int64\n",
      "product_id                      0\n",
      "product_category_name         610\n",
      "product_name_lenght           610\n",
      "product_description_lenght    610\n",
      "product_photos_qty            610\n",
      "product_weight_g                2\n",
      "product_length_cm               2\n",
      "product_height_cm               2\n",
      "product_width_cm                2\n",
      "dtype: int64\n",
      "seller_id                 0\n",
      "seller_zip_code_prefix    0\n",
      "seller_city               0\n",
      "seller_state              0\n",
      "dtype: int64\n",
      "order_id                0\n",
      "payment_sequential      0\n",
      "payment_type            0\n",
      "payment_installments    0\n",
      "payment_value           0\n",
      "dtype: int64\n",
      "review_id                      0\n",
      "order_id                       0\n",
      "review_score                   0\n",
      "review_comment_title       87656\n",
      "review_comment_message     58247\n",
      "review_creation_date           0\n",
      "review_answer_timestamp        0\n",
      "dtype: int64\n"
     ]
    }
   ],
   "source": [
    "# Verificar datos nulos\n",
    "print(orders.isnull().sum())\n",
    "print(customers.isnull().sum())\n",
    "print(products.isnull().sum())\n",
    "print(sellers.isnull().sum())\n",
    "print(payments.isnull().sum())\n",
    "print(reviews.isnull().sum())\n"
   ]
  },
  {
   "cell_type": "code",
   "execution_count": 17,
   "id": "fcb3b342-896e-458f-aae2-239e8dd4030e",
   "metadata": {},
   "outputs": [
    {
     "name": "stdout",
     "output_type": "stream",
     "text": [
      "orders: (99441, 8)\n",
      "customers: (99441, 5)\n",
      "geolocation: (1000163, 5)\n",
      "order_items: (112650, 7)\n",
      "products: (32951, 9)\n",
      "sellers: (3095, 4)\n",
      "payments: (103886, 5)\n",
      "reviews: (99224, 7)\n"
     ]
    }
   ],
   "source": [
    "# Verificar la cantidad de filas y columnas de cada dataset\n",
    "print(\"orders:\", orders.shape)\n",
    "print(\"customers:\", customers.shape)\n",
    "print(\"geolocation:\", geolocation.shape)\n",
    "print(\"order_items:\", order_items.shape)\n",
    "print(\"products:\", products.shape)\n",
    "print(\"sellers:\", sellers.shape)\n",
    "print(\"payments:\", payments.shape)\n",
    "print(\"reviews:\", reviews.shape)"
   ]
  },
  {
   "cell_type": "code",
   "execution_count": 18,
   "id": "5c5fa380-87be-4098-b8b9-cd8faa4ebb1b",
   "metadata": {},
   "outputs": [
    {
     "name": "stdout",
     "output_type": "stream",
     "text": [
      "--- CUSTOMERS ---\n",
      "<class 'pandas.core.frame.DataFrame'>\n",
      "RangeIndex: 99441 entries, 0 to 99440\n",
      "Data columns (total 5 columns):\n",
      " #   Column                    Non-Null Count  Dtype \n",
      "---  ------                    --------------  ----- \n",
      " 0   customer_id               99441 non-null  object\n",
      " 1   customer_unique_id        99441 non-null  object\n",
      " 2   customer_zip_code_prefix  99441 non-null  int64 \n",
      " 3   customer_city             99441 non-null  object\n",
      " 4   customer_state            99441 non-null  object\n",
      "dtypes: int64(1), object(4)\n",
      "memory usage: 3.8+ MB\n",
      "None\n",
      "\n",
      "\n",
      "--- GEOLOCATION ---\n",
      "<class 'pandas.core.frame.DataFrame'>\n",
      "RangeIndex: 1000163 entries, 0 to 1000162\n",
      "Data columns (total 5 columns):\n",
      " #   Column                       Non-Null Count    Dtype  \n",
      "---  ------                       --------------    -----  \n",
      " 0   geolocation_zip_code_prefix  1000163 non-null  int64  \n",
      " 1   geolocation_lat              1000163 non-null  float64\n",
      " 2   geolocation_lng              1000163 non-null  float64\n",
      " 3   geolocation_city             1000163 non-null  object \n",
      " 4   geolocation_state            1000163 non-null  object \n",
      "dtypes: float64(2), int64(1), object(2)\n",
      "memory usage: 38.2+ MB\n",
      "None\n",
      "\n",
      "\n",
      "--- ORDER_ITEMS ---\n",
      "<class 'pandas.core.frame.DataFrame'>\n",
      "RangeIndex: 112650 entries, 0 to 112649\n",
      "Data columns (total 7 columns):\n",
      " #   Column               Non-Null Count   Dtype  \n",
      "---  ------               --------------   -----  \n",
      " 0   order_id             112650 non-null  object \n",
      " 1   order_item_id        112650 non-null  int64  \n",
      " 2   product_id           112650 non-null  object \n",
      " 3   seller_id            112650 non-null  object \n",
      " 4   shipping_limit_date  112650 non-null  object \n",
      " 5   price                112650 non-null  float64\n",
      " 6   freight_value        112650 non-null  float64\n",
      "dtypes: float64(2), int64(1), object(4)\n",
      "memory usage: 6.0+ MB\n",
      "None\n",
      "\n",
      "\n",
      "--- PRODUCTS ---\n",
      "<class 'pandas.core.frame.DataFrame'>\n",
      "RangeIndex: 32951 entries, 0 to 32950\n",
      "Data columns (total 9 columns):\n",
      " #   Column                      Non-Null Count  Dtype  \n",
      "---  ------                      --------------  -----  \n",
      " 0   product_id                  32951 non-null  object \n",
      " 1   product_category_name       32341 non-null  object \n",
      " 2   product_name_lenght         32341 non-null  float64\n",
      " 3   product_description_lenght  32341 non-null  float64\n",
      " 4   product_photos_qty          32341 non-null  float64\n",
      " 5   product_weight_g            32949 non-null  float64\n",
      " 6   product_length_cm           32949 non-null  float64\n",
      " 7   product_height_cm           32949 non-null  float64\n",
      " 8   product_width_cm            32949 non-null  float64\n",
      "dtypes: float64(7), object(2)\n",
      "memory usage: 2.3+ MB\n",
      "None\n",
      "\n",
      "\n",
      "--- SELLERS ---\n",
      "<class 'pandas.core.frame.DataFrame'>\n",
      "RangeIndex: 3095 entries, 0 to 3094\n",
      "Data columns (total 4 columns):\n",
      " #   Column                  Non-Null Count  Dtype \n",
      "---  ------                  --------------  ----- \n",
      " 0   seller_id               3095 non-null   object\n",
      " 1   seller_zip_code_prefix  3095 non-null   int64 \n",
      " 2   seller_city             3095 non-null   object\n",
      " 3   seller_state            3095 non-null   object\n",
      "dtypes: int64(1), object(3)\n",
      "memory usage: 96.8+ KB\n",
      "None\n",
      "\n",
      "\n",
      "--- PAYMENTS ---\n",
      "<class 'pandas.core.frame.DataFrame'>\n",
      "RangeIndex: 103886 entries, 0 to 103885\n",
      "Data columns (total 5 columns):\n",
      " #   Column                Non-Null Count   Dtype  \n",
      "---  ------                --------------   -----  \n",
      " 0   order_id              103886 non-null  object \n",
      " 1   payment_sequential    103886 non-null  int64  \n",
      " 2   payment_type          103886 non-null  object \n",
      " 3   payment_installments  103886 non-null  int64  \n",
      " 4   payment_value         103886 non-null  float64\n",
      "dtypes: float64(1), int64(2), object(2)\n",
      "memory usage: 4.0+ MB\n",
      "None\n",
      "\n",
      "\n",
      "--- REVIEWS ---\n",
      "<class 'pandas.core.frame.DataFrame'>\n",
      "RangeIndex: 99224 entries, 0 to 99223\n",
      "Data columns (total 7 columns):\n",
      " #   Column                   Non-Null Count  Dtype \n",
      "---  ------                   --------------  ----- \n",
      " 0   review_id                99224 non-null  object\n",
      " 1   order_id                 99224 non-null  object\n",
      " 2   review_score             99224 non-null  int64 \n",
      " 3   review_comment_title     11568 non-null  object\n",
      " 4   review_comment_message   40977 non-null  object\n",
      " 5   review_creation_date     99224 non-null  object\n",
      " 6   review_answer_timestamp  99224 non-null  object\n",
      "dtypes: int64(1), object(6)\n",
      "memory usage: 5.3+ MB\n",
      "None\n",
      "\n",
      "\n",
      "--- ORDERS ---\n",
      "<class 'pandas.core.frame.DataFrame'>\n",
      "RangeIndex: 99441 entries, 0 to 99440\n",
      "Data columns (total 8 columns):\n",
      " #   Column                         Non-Null Count  Dtype \n",
      "---  ------                         --------------  ----- \n",
      " 0   order_id                       99441 non-null  object\n",
      " 1   customer_id                    99441 non-null  object\n",
      " 2   order_status                   99441 non-null  object\n",
      " 3   order_purchase_timestamp       99441 non-null  object\n",
      " 4   order_approved_at              99281 non-null  object\n",
      " 5   order_delivered_carrier_date   97658 non-null  object\n",
      " 6   order_delivered_customer_date  96476 non-null  object\n",
      " 7   order_estimated_delivery_date  99441 non-null  object\n",
      "dtypes: object(8)\n",
      "memory usage: 6.1+ MB\n",
      "None\n",
      "\n",
      "\n"
     ]
    }
   ],
   "source": [
    "# Inspeccionar columnas y valores nulos\n",
    "datasets = {\n",
    "    'customers': customers,\n",
    "    'geolocation': geolocation,\n",
    "    'order_items': order_items,\n",
    "    'products': products,\n",
    "    'sellers': sellers,\n",
    "    'payments': payments,\n",
    "    'reviews': reviews,\n",
    "    'orders': orders\n",
    "}\n",
    "\n",
    "for name, df in datasets.items():\n",
    "    print(f\"--- {name.upper()} ---\")\n",
    "    print(df.info())\n",
    "    print(\"\\n\")\n"
   ]
  },
  {
   "cell_type": "code",
   "execution_count": 19,
   "id": "3c8758d0-2e4a-458f-b8d3-04d9d36851b5",
   "metadata": {},
   "outputs": [
    {
     "name": "stdout",
     "output_type": "stream",
     "text": [
      "--- CUSTOMERS ---\n",
      "<class 'pandas.core.frame.DataFrame'>\n",
      "RangeIndex: 99441 entries, 0 to 99440\n",
      "Data columns (total 5 columns):\n",
      " #   Column                    Non-Null Count  Dtype \n",
      "---  ------                    --------------  ----- \n",
      " 0   customer_id               99441 non-null  object\n",
      " 1   customer_unique_id        99441 non-null  object\n",
      " 2   customer_zip_code_prefix  99441 non-null  int64 \n",
      " 3   customer_city             99441 non-null  object\n",
      " 4   customer_state            99441 non-null  object\n",
      "dtypes: int64(1), object(4)\n",
      "memory usage: 3.8+ MB\n",
      "None\n",
      "\n",
      "\n",
      "--- GEOLOCATION ---\n",
      "<class 'pandas.core.frame.DataFrame'>\n",
      "RangeIndex: 1000163 entries, 0 to 1000162\n",
      "Data columns (total 5 columns):\n",
      " #   Column                       Non-Null Count    Dtype  \n",
      "---  ------                       --------------    -----  \n",
      " 0   geolocation_zip_code_prefix  1000163 non-null  int64  \n",
      " 1   geolocation_lat              1000163 non-null  float64\n",
      " 2   geolocation_lng              1000163 non-null  float64\n",
      " 3   geolocation_city             1000163 non-null  object \n",
      " 4   geolocation_state            1000163 non-null  object \n",
      "dtypes: float64(2), int64(1), object(2)\n",
      "memory usage: 38.2+ MB\n",
      "None\n",
      "\n",
      "\n",
      "--- ORDER_ITEMS ---\n",
      "<class 'pandas.core.frame.DataFrame'>\n",
      "RangeIndex: 112650 entries, 0 to 112649\n",
      "Data columns (total 7 columns):\n",
      " #   Column               Non-Null Count   Dtype  \n",
      "---  ------               --------------   -----  \n",
      " 0   order_id             112650 non-null  object \n",
      " 1   order_item_id        112650 non-null  int64  \n",
      " 2   product_id           112650 non-null  object \n",
      " 3   seller_id            112650 non-null  object \n",
      " 4   shipping_limit_date  112650 non-null  object \n",
      " 5   price                112650 non-null  float64\n",
      " 6   freight_value        112650 non-null  float64\n",
      "dtypes: float64(2), int64(1), object(4)\n",
      "memory usage: 6.0+ MB\n",
      "None\n",
      "\n",
      "\n",
      "--- PRODUCTS ---\n",
      "<class 'pandas.core.frame.DataFrame'>\n",
      "RangeIndex: 32951 entries, 0 to 32950\n",
      "Data columns (total 9 columns):\n",
      " #   Column                      Non-Null Count  Dtype  \n",
      "---  ------                      --------------  -----  \n",
      " 0   product_id                  32951 non-null  object \n",
      " 1   product_category_name       32341 non-null  object \n",
      " 2   product_name_lenght         32341 non-null  float64\n",
      " 3   product_description_lenght  32341 non-null  float64\n",
      " 4   product_photos_qty          32341 non-null  float64\n",
      " 5   product_weight_g            32949 non-null  float64\n",
      " 6   product_length_cm           32949 non-null  float64\n",
      " 7   product_height_cm           32949 non-null  float64\n",
      " 8   product_width_cm            32949 non-null  float64\n",
      "dtypes: float64(7), object(2)\n",
      "memory usage: 2.3+ MB\n",
      "None\n",
      "\n",
      "\n",
      "--- SELLERS ---\n",
      "<class 'pandas.core.frame.DataFrame'>\n",
      "RangeIndex: 3095 entries, 0 to 3094\n",
      "Data columns (total 4 columns):\n",
      " #   Column                  Non-Null Count  Dtype \n",
      "---  ------                  --------------  ----- \n",
      " 0   seller_id               3095 non-null   object\n",
      " 1   seller_zip_code_prefix  3095 non-null   int64 \n",
      " 2   seller_city             3095 non-null   object\n",
      " 3   seller_state            3095 non-null   object\n",
      "dtypes: int64(1), object(3)\n",
      "memory usage: 96.8+ KB\n",
      "None\n",
      "\n",
      "\n",
      "--- PAYMENTS ---\n",
      "<class 'pandas.core.frame.DataFrame'>\n",
      "RangeIndex: 103886 entries, 0 to 103885\n",
      "Data columns (total 5 columns):\n",
      " #   Column                Non-Null Count   Dtype  \n",
      "---  ------                --------------   -----  \n",
      " 0   order_id              103886 non-null  object \n",
      " 1   payment_sequential    103886 non-null  int64  \n",
      " 2   payment_type          103886 non-null  object \n",
      " 3   payment_installments  103886 non-null  int64  \n",
      " 4   payment_value         103886 non-null  float64\n",
      "dtypes: float64(1), int64(2), object(2)\n",
      "memory usage: 4.0+ MB\n",
      "None\n",
      "\n",
      "\n",
      "--- REVIEWS ---\n",
      "<class 'pandas.core.frame.DataFrame'>\n",
      "RangeIndex: 99224 entries, 0 to 99223\n",
      "Data columns (total 7 columns):\n",
      " #   Column                   Non-Null Count  Dtype \n",
      "---  ------                   --------------  ----- \n",
      " 0   review_id                99224 non-null  object\n",
      " 1   order_id                 99224 non-null  object\n",
      " 2   review_score             99224 non-null  int64 \n",
      " 3   review_comment_title     11568 non-null  object\n",
      " 4   review_comment_message   40977 non-null  object\n",
      " 5   review_creation_date     99224 non-null  object\n",
      " 6   review_answer_timestamp  99224 non-null  object\n",
      "dtypes: int64(1), object(6)\n",
      "memory usage: 5.3+ MB\n",
      "None\n",
      "\n",
      "\n",
      "--- ORDERS ---\n",
      "<class 'pandas.core.frame.DataFrame'>\n",
      "RangeIndex: 99441 entries, 0 to 99440\n",
      "Data columns (total 8 columns):\n",
      " #   Column                         Non-Null Count  Dtype \n",
      "---  ------                         --------------  ----- \n",
      " 0   order_id                       99441 non-null  object\n",
      " 1   customer_id                    99441 non-null  object\n",
      " 2   order_status                   99441 non-null  object\n",
      " 3   order_purchase_timestamp       99441 non-null  object\n",
      " 4   order_approved_at              99281 non-null  object\n",
      " 5   order_delivered_carrier_date   97658 non-null  object\n",
      " 6   order_delivered_customer_date  96476 non-null  object\n",
      " 7   order_estimated_delivery_date  99441 non-null  object\n",
      "dtypes: object(8)\n",
      "memory usage: 6.1+ MB\n",
      "None\n",
      "\n",
      "\n"
     ]
    }
   ],
   "source": [
    "# Inspeccionar columnas y valores nulos de todos los datasets\n",
    "datasets = {\n",
    "    'customers': customers,\n",
    "    'geolocation': geolocation,\n",
    "    'order_items': order_items,\n",
    "    'products': products,\n",
    "    'sellers': sellers,\n",
    "    'payments': payments,\n",
    "    'reviews': reviews,\n",
    "    'orders': orders\n",
    "}\n",
    "\n",
    "for name, df in datasets.items():\n",
    "    print(f\"--- {name.upper()} ---\")\n",
    "    print(df.info())\n",
    "    print(\"\\n\")\n"
   ]
  },
  {
   "cell_type": "code",
   "execution_count": 20,
   "id": "c51d59bf-ea54-4c80-b389-f5a139d697de",
   "metadata": {},
   "outputs": [
    {
     "name": "stdout",
     "output_type": "stream",
     "text": [
      "--- ORDERS ---\n",
      "order_id                            0\n",
      "customer_id                         0\n",
      "order_status                        0\n",
      "order_purchase_timestamp            0\n",
      "order_approved_at                 160\n",
      "order_delivered_carrier_date     1783\n",
      "order_delivered_customer_date    2965\n",
      "order_estimated_delivery_date       0\n",
      "dtype: int64\n",
      "\n",
      "\n",
      "--- CUSTOMERS ---\n",
      "customer_id                 0\n",
      "customer_unique_id          0\n",
      "customer_zip_code_prefix    0\n",
      "customer_city               0\n",
      "customer_state              0\n",
      "dtype: int64\n",
      "\n",
      "\n",
      "--- GEOLOCATION ---\n",
      "geolocation_zip_code_prefix    0\n",
      "geolocation_lat                0\n",
      "geolocation_lng                0\n",
      "geolocation_city               0\n",
      "geolocation_state              0\n",
      "dtype: int64\n",
      "\n",
      "\n",
      "--- ORDER_ITEMS ---\n",
      "order_id               0\n",
      "order_item_id          0\n",
      "product_id             0\n",
      "seller_id              0\n",
      "shipping_limit_date    0\n",
      "price                  0\n",
      "freight_value          0\n",
      "dtype: int64\n",
      "\n",
      "\n",
      "--- PRODUCTS ---\n",
      "product_id                      0\n",
      "product_category_name         610\n",
      "product_name_lenght           610\n",
      "product_description_lenght    610\n",
      "product_photos_qty            610\n",
      "product_weight_g                2\n",
      "product_length_cm               2\n",
      "product_height_cm               2\n",
      "product_width_cm                2\n",
      "dtype: int64\n",
      "\n",
      "\n",
      "--- SELLERS ---\n",
      "seller_id                 0\n",
      "seller_zip_code_prefix    0\n",
      "seller_city               0\n",
      "seller_state              0\n",
      "dtype: int64\n",
      "\n",
      "\n",
      "--- PAYMENTS ---\n",
      "order_id                0\n",
      "payment_sequential      0\n",
      "payment_type            0\n",
      "payment_installments    0\n",
      "payment_value           0\n",
      "dtype: int64\n",
      "\n",
      "\n",
      "--- REVIEWS ---\n",
      "review_id                      0\n",
      "order_id                       0\n",
      "review_score                   0\n",
      "review_comment_title       87656\n",
      "review_comment_message     58247\n",
      "review_creation_date           0\n",
      "review_answer_timestamp        0\n",
      "dtype: int64\n",
      "\n",
      "\n"
     ]
    }
   ],
   "source": [
    "# Verificar valores nulos y tipos de datos\n",
    "dataframes = {\n",
    "    \"orders\": orders,\n",
    "    \"customers\": customers,\n",
    "    \"geolocation\": geolocation,\n",
    "    \"order_items\": order_items,\n",
    "    \"products\": products,\n",
    "    \"sellers\": sellers,\n",
    "    \"payments\": payments,\n",
    "    \"reviews\": reviews\n",
    "}\n",
    "\n",
    "for name, df in dataframes.items():\n",
    "    print(f\"--- {name.upper()} ---\")\n",
    "    print(df.isnull().sum())\n",
    "    print(\"\\n\")\n"
   ]
  },
  {
   "cell_type": "code",
   "execution_count": 21,
   "id": "8b209976-f6e5-43c2-a816-cbf39711e938",
   "metadata": {},
   "outputs": [
    {
     "name": "stdout",
     "output_type": "stream",
     "text": [
      "\n",
      "--- CUSTOMERS ---\n",
      "Series([], dtype: float64)\n",
      "\n",
      "--- GEOLOCATION ---\n",
      "Series([], dtype: float64)\n",
      "\n",
      "--- ORDER_ITEMS ---\n",
      "Series([], dtype: float64)\n",
      "\n",
      "--- PRODUCTS ---\n",
      "product_category_name         1.851234\n",
      "product_name_lenght           1.851234\n",
      "product_description_lenght    1.851234\n",
      "product_photos_qty            1.851234\n",
      "product_weight_g              0.006070\n",
      "product_length_cm             0.006070\n",
      "product_height_cm             0.006070\n",
      "product_width_cm              0.006070\n",
      "dtype: float64\n",
      "\n",
      "--- SELLERS ---\n",
      "Series([], dtype: float64)\n",
      "\n",
      "--- PAYMENTS ---\n",
      "Series([], dtype: float64)\n",
      "\n",
      "--- REVIEWS ---\n",
      "review_comment_title      88.341530\n",
      "review_comment_message    58.702532\n",
      "dtype: float64\n",
      "\n",
      "--- ORDERS ---\n",
      "order_delivered_customer_date    2.981668\n",
      "order_delivered_carrier_date     1.793023\n",
      "order_approved_at                0.160899\n",
      "dtype: float64\n"
     ]
    }
   ],
   "source": [
    "# Verificar el porcentaje de valores nulos por columna en cada dataset\n",
    "for name, df in datasets.items():\n",
    "    print(f\"\\n--- {name.upper()} ---\")\n",
    "    null_percent = df.isnull().mean() * 100\n",
    "    print(null_percent[null_percent > 0].sort_values(ascending=False))\n"
   ]
  },
  {
   "cell_type": "code",
   "execution_count": 25,
   "id": "d4685730-d38f-4371-b371-7567192b6c28",
   "metadata": {},
   "outputs": [],
   "source": [
    "# Eliminar solo si las columnas existen\n",
    "cols_to_drop = ['review_comment_title', 'review_comment_message']\n",
    "cols_presentes = [col for col in cols_to_drop if col in reviews.columns]\n",
    "reviews.drop(columns=cols_presentes, inplace=True)\n"
   ]
  },
  {
   "cell_type": "code",
   "execution_count": 26,
   "id": "dd9e2540-f6b2-4006-b1bd-3d59c134bf80",
   "metadata": {},
   "outputs": [
    {
     "name": "stdout",
     "output_type": "stream",
     "text": [
      "\n",
      "--- ORDERS ---\n",
      "Sin valores nulos\n",
      "\n",
      "--- CUSTOMERS ---\n",
      "Sin valores nulos\n",
      "\n",
      "--- GEOLOCATION ---\n",
      "Sin valores nulos\n",
      "\n",
      "--- ORDER_ITEMS ---\n",
      "Sin valores nulos\n",
      "\n",
      "--- PRODUCTS ---\n",
      "Sin valores nulos\n",
      "\n",
      "--- SELLERS ---\n",
      "Sin valores nulos\n",
      "\n",
      "--- PAYMENTS ---\n",
      "Sin valores nulos\n",
      "\n",
      "--- REVIEWS ---\n",
      "Sin valores nulos\n"
     ]
    }
   ],
   "source": [
    "# Crear una función para ver el porcentaje de nulos\n",
    "def revisar_nulos(df, nombre):\n",
    "    null_percent = df.isnull().mean() * 100\n",
    "    null_percent = null_percent[null_percent > 0].sort_values(ascending=False)\n",
    "    print(f\"\\n--- {nombre.upper()} ---\")\n",
    "    print(null_percent if not null_percent.empty else \"Sin valores nulos\")\n",
    "\n",
    "# Revisar en cada dataset\n",
    "revisar_nulos(orders, \"orders\")\n",
    "revisar_nulos(customers, \"customers\")\n",
    "revisar_nulos(geolocation, \"geolocation\")\n",
    "revisar_nulos(order_items, \"order_items\")\n",
    "revisar_nulos(products, \"products\")\n",
    "revisar_nulos(sellers, \"sellers\")\n",
    "revisar_nulos(payments, \"payments\")\n",
    "revisar_nulos(reviews, \"reviews\")\n"
   ]
  },
  {
   "cell_type": "code",
   "execution_count": 27,
   "id": "36517f9e-ecd6-4c10-bc52-336ed36c9432",
   "metadata": {},
   "outputs": [
    {
     "name": "stdout",
     "output_type": "stream",
     "text": [
      "Total de pedidos únicos: 96461\n"
     ]
    }
   ],
   "source": [
    "print(\"Total de pedidos únicos:\", orders['order_id'].nunique())"
   ]
  },
  {
   "cell_type": "code",
   "execution_count": 28,
   "id": "15c95988-3c8b-4585-9173-d6558bfa4fe0",
   "metadata": {},
   "outputs": [
    {
     "data": {
      "text/plain": [
       "<Axes: title={'center': 'Distribución de estados de pedidos'}, xlabel='order_status'>"
      ]
     },
     "execution_count": 28,
     "metadata": {},
     "output_type": "execute_result"
    },
    {
     "data": {
      "image/png": "[encoded data removed]",
      "text/plain": [
       "<Figure size 640x480 with 1 Axes>"
      ]
     },
     "metadata": {},
     "output_type": "display_data"
    }
   ],
   "source": [
    "orders['order_status'].value_counts().plot(kind='bar', title='Distribución de estados de pedidos')"
   ]
  },
  {
   "cell_type": "code",
   "execution_count": 29,
   "id": "edab705f-7439-4db0-9d60-b09c5b409174",
   "metadata": {},
   "outputs": [
    {
     "name": "stdout",
     "output_type": "stream",
     "text": [
      "Top 10 productos más vendidos:\n",
      " product_id\n",
      "aca2eb7d00ea1a7b8ebd4e68314663af    527\n",
      "99a4788cb24856965c36a24e339b6058    488\n",
      "422879e10f46682990de24d770e7f83d    484\n",
      "389d119b48cf3043d311335e499d9c6b    392\n",
      "368c6c730842d78016ad823897a372db    388\n",
      "53759a2ecddad2bb87a079a1f1519f73    373\n",
      "d1c427060a0f73f6b889a5c7c61f2ac4    343\n",
      "53b36df67ebb7c41585e8d54d6772e08    323\n",
      "154e7e31ebfa092203795c972e5804a6    281\n",
      "3dd2a17168ec895c781a9191c1e95ad7    274\n",
      "Name: count, dtype: int64\n"
     ]
    }
   ],
   "source": [
    "top_products = order_items['product_id'].value_counts().head(10)\n",
    "print(\"Top 10 productos más vendidos:\\n\", top_products)"
   ]
  },
  {
   "cell_type": "code",
   "execution_count": 30,
   "id": "ebf4b58d-24fe-4039-b018-461b864df806",
   "metadata": {},
   "outputs": [
    {
     "name": "stdout",
     "output_type": "stream",
     "text": [
      "Precio medio: 120.65373901464716\n",
      "Precio mediano: 74.99\n"
     ]
    }
   ],
   "source": [
    "print(\"Precio medio:\", order_items['price'].mean())\n",
    "print(\"Precio mediano:\", order_items['price'].median())"
   ]
  },
  {
   "cell_type": "code",
   "execution_count": 32,
   "id": "09cfdb9d-910f-48d3-9243-3117563f326a",
   "metadata": {},
   "outputs": [
    {
     "name": "stdout",
     "output_type": "stream",
     "text": [
      "Total de pedidos únicos: 96461\n",
      "\n",
      "Distribución de estados de los pedidos:\n",
      "order_status\n",
      "delivered    96455\n",
      "canceled         6\n",
      "Name: count, dtype: int64\n",
      "\n",
      "Top 10 productos más vendidos (IDs):\n",
      "product_id\n",
      "aca2eb7d00ea1a7b8ebd4e68314663af    527\n",
      "99a4788cb24856965c36a24e339b6058    488\n",
      "422879e10f46682990de24d770e7f83d    484\n",
      "389d119b48cf3043d311335e499d9c6b    392\n",
      "368c6c730842d78016ad823897a372db    388\n",
      "53759a2ecddad2bb87a079a1f1519f73    373\n",
      "d1c427060a0f73f6b889a5c7c61f2ac4    343\n",
      "53b36df67ebb7c41585e8d54d6772e08    323\n",
      "154e7e31ebfa092203795c972e5804a6    281\n",
      "3dd2a17168ec895c781a9191c1e95ad7    274\n",
      "Name: count, dtype: int64\n",
      "\n",
      "Precio medio: 120.65\n",
      "Precio mediano: 74.99\n"
     ]
    }
   ],
   "source": [
    "# Número total de pedidos únicos\n",
    "print(\"Total de pedidos únicos:\", orders['order_id'].nunique())\n",
    "\n",
    "# Distribución de los estados de pedido\n",
    "order_status_counts = orders['order_status'].value_counts()\n",
    "print(\"\\nDistribución de estados de los pedidos:\")\n",
    "print(order_status_counts)\n",
    "\n",
    "# Top 10 productos más vendidos\n",
    "top_products = order_items['product_id'].value_counts().head(10)\n",
    "print(\"\\nTop 10 productos más vendidos (IDs):\")\n",
    "print(top_products)\n",
    "\n",
    "# Precio medio y mediano\n",
    "price_mean = order_items['price'].mean()\n",
    "price_median = order_items['price'].median()\n",
    "print(f\"\\nPrecio medio: {price_mean:.2f}\")\n",
    "print(f\"Precio mediano: {price_median:.2f}\")\n"
   ]
  },
  {
   "cell_type": "code",
   "execution_count": 34,
   "id": "9a2eaa0a-1e72-44e5-a531-36e0bfe813cd",
   "metadata": {},
   "outputs": [],
   "source": [
    "import pandas as pd\n",
    "import matplotlib.pyplot as plt\n",
    "import seaborn as sns"
   ]
  },
  {
   "cell_type": "code",
   "execution_count": 35,
   "id": "5c721501-7fb8-4284-afd8-9333fb997b0d",
   "metadata": {},
   "outputs": [
    {
     "name": "stderr",
     "output_type": "stream",
     "text": [
      "/tmp/ipykernel_25420/2172854261.py:2: FutureWarning: \n",
      "\n",
      "Passing `palette` without assigning `hue` is deprecated and will be removed in v0.14.0. Assign the `x` variable to `hue` and set `legend=False` for the same effect.\n",
      "\n",
      "  sns.barplot(x=order_status_counts.index, y=order_status_counts.values, palette='viridis')\n"
     ]
    },
    {
     "data": {
      "image/png": "[encoded data removed]",
      "text/plain": [
       "<Figure size 1000x500 with 1 Axes>"
      ]
     },
     "metadata": {},
     "output_type": "display_data"
    }
   ],
   "source": [
    "plt.figure(figsize=(10,5))\n",
    "sns.barplot(x=order_status_counts.index, y=order_status_counts.values, palette='viridis')\n",
    "plt.title(\"Distribución de estados de pedidos\")\n",
    "plt.xlabel(\"Estado\")\n",
    "plt.ylabel(\"Cantidad de pedidos\")\n",
    "plt.xticks(rotation=45)\n",
    "plt.tight_layout()\n",
    "plt.show()"
   ]
  },
  {
   "cell_type": "code",
   "execution_count": 42,
   "id": "86ad8cfd-ebd1-4d4b-a83e-42d2298b79ac",
   "metadata": {},
   "outputs": [],
   "source": [
    "orders = pd.read_csv(\"olist_orders_dataset.csv\")\n",
    "order_items = pd.read_csv(\"olist_order_items_dataset.csv\")\n",
    "orders_cart = pd.merge(orders, order_items, on='order_id', how='inner')\n",
    "avg_cart_by_status = orders_cart.groupby('order_status')['price'].mean()\n",
    "orders_cart = pd.merge(orders, order_items, on='order_id', how='inner')"
   ]
  },
  {
   "cell_type": "code",
   "execution_count": 43,
   "id": "fbb65fd7-cc20-4a43-8934-46a46254a0f8",
   "metadata": {},
   "outputs": [
    {
     "name": "stdout",
     "output_type": "stream",
     "text": [
      "Valor promedio del carrito: R$ 137.75\n"
     ]
    }
   ],
   "source": [
    "# Calcular el valor total del carrito por pedido\n",
    "cart_values = order_items.groupby('order_id')['price'].sum()\n",
    "\n",
    "# Calcular el valor promedio del carrito\n",
    "average_cart_value = cart_values.mean()\n",
    "\n",
    "print(f\"Valor promedio del carrito: R$ {average_cart_value:.2f}\")\n"
   ]
  },
  {
   "cell_type": "code",
   "execution_count": 44,
   "id": "2a73f858-6c8e-49ef-9eee-502cd6358151",
   "metadata": {},
   "outputs": [
    {
     "name": "stderr",
     "output_type": "stream",
     "text": [
      "/tmp/ipykernel_25420/1215904112.py:11: FutureWarning: \n",
      "\n",
      "Passing `palette` without assigning `hue` is deprecated and will be removed in v0.14.0. Assign the `x` variable to `hue` and set `legend=False` for the same effect.\n",
      "\n",
      "  sns.barplot(x='order_status', y='avg_cart_value', data=avg_cart_df, palette='mako')\n"
     ]
    },
    {
     "data": {
      "image/png": "[encoded data removed]",
      "text/plain": [
       "<Figure size 1000x500 with 1 Axes>"
      ]
     },
     "metadata": {},
     "output_type": "display_data"
    }
   ],
   "source": [
    "# Calculamos el número de pedidos por estado\n",
    "order_counts = orders_cart['order_status'].value_counts()\n",
    "\n",
    "# Preparamos los datos en un DataFrame\n",
    "avg_cart_df = avg_cart_by_status.reset_index()\n",
    "avg_cart_df.columns = ['order_status', 'avg_cart_value']\n",
    "avg_cart_df['order_count'] = avg_cart_df['order_status'].map(order_counts)\n",
    "\n",
    "# Graficamos\n",
    "plt.figure(figsize=(10, 5))\n",
    "sns.barplot(x='order_status', y='avg_cart_value', data=avg_cart_df, palette='mako')\n",
    "\n",
    "# Añadimos etiquetas con la cantidad de pedidos\n",
    "for index, row in avg_cart_df.iterrows():\n",
    "    plt.text(index, row['avg_cart_value'] + 1, f\"{int(row['order_count'])} pedidos\", ha='center', fontsize=9)\n",
    "\n",
    "plt.title(\"Valor promedio del carrito por estado del pedido\")\n",
    "plt.xlabel(\"Estado del pedido\")\n",
    "plt.ylabel(\"Valor promedio (R$)\")\n",
    "plt.xticks(rotation=45)\n",
    "plt.tight_layout()\n",
    "plt.show()"
   ]
  },
  {
   "cell_type": "code",
   "execution_count": 45,
   "id": "167c7830-d46a-4027-8138-1546086503bd",
   "metadata": {},
   "outputs": [
    {
     "name": "stdout",
     "output_type": "stream",
     "text": [
      "Tiempo de entrega (en días):\n",
      "count    96462.000000\n",
      "mean        11.642968\n",
      "std          9.520747\n",
      "min         -7.000000\n",
      "25%          6.000000\n",
      "50%          9.000000\n",
      "75%         15.000000\n",
      "max        208.000000\n",
      "Name: delivery_time, dtype: float64\n"
     ]
    },
    {
     "data": {
      "image/png": "[encoded data removed]",
      "text/plain": [
       "<Figure size 1000x500 with 1 Axes>"
      ]
     },
     "metadata": {},
     "output_type": "display_data"
    }
   ],
   "source": [
    "# Convertimos columnas de fecha a tipo datetime\n",
    "orders['order_approved_at'] = pd.to_datetime(orders['order_approved_at'])\n",
    "orders['order_delivered_customer_date'] = pd.to_datetime(orders['order_delivered_customer_date'])\n",
    "\n",
    "# Creamos la columna con el tiempo de entrega en días\n",
    "orders['delivery_time'] = (orders['order_delivered_customer_date'] - orders['order_approved_at']).dt.days\n",
    "\n",
    "# Mostramos estadísticas generales\n",
    "print(\"Tiempo de entrega (en días):\")\n",
    "print(orders['delivery_time'].describe())\n",
    "\n",
    "# Visualizamos la distribución con un histograma\n",
    "plt.figure(figsize=(10,5))\n",
    "sns.histplot(orders['delivery_time'].dropna(), bins=30, kde=True, color='skyblue')\n",
    "plt.title(\"Distribución del tiempo de entrega\")\n",
    "plt.xlabel(\"Días de entrega\")\n",
    "plt.ylabel(\"Cantidad de pedidos\")\n",
    "plt.grid(True)\n",
    "plt.show()"
   ]
  },
  {
   "cell_type": "code",
   "execution_count": 46,
   "id": "4c15e077-1b68-4124-9d92-c76ee608b552",
   "metadata": {},
   "outputs": [
    {
     "data": {
      "text/html": [
       "<div>\n",
       "<style scoped>\n",
       "    .dataframe tbody tr th:only-of-type {\n",
       "        vertical-align: middle;\n",
       "    }\n",
       "\n",
       "    .dataframe tbody tr th {\n",
       "        vertical-align: top;\n",
       "    }\n",
       "\n",
       "    .dataframe thead th {\n",
       "        text-align: right;\n",
       "    }\n",
       "</style>\n",
       "<table border=\"1\" class=\"dataframe\">\n",
       "  <thead>\n",
       "    <tr style=\"text-align: right;\">\n",
       "      <th></th>\n",
       "      <th>order_id</th>\n",
       "      <th>delivery_time</th>\n",
       "      <th>customer_city</th>\n",
       "    </tr>\n",
       "  </thead>\n",
       "  <tbody>\n",
       "    <tr>\n",
       "      <th>0</th>\n",
       "      <td>e481f51cbdc54678b7cc49136f2d6af7</td>\n",
       "      <td>8.0</td>\n",
       "      <td>sao paulo</td>\n",
       "    </tr>\n",
       "    <tr>\n",
       "      <th>1</th>\n",
       "      <td>53cdb2fc8bc7dce0b6741e2150273451</td>\n",
       "      <td>12.0</td>\n",
       "      <td>barreiras</td>\n",
       "    </tr>\n",
       "    <tr>\n",
       "      <th>2</th>\n",
       "      <td>47770eb9100c2d0c44946d9cf07ec65d</td>\n",
       "      <td>9.0</td>\n",
       "      <td>vianopolis</td>\n",
       "    </tr>\n",
       "    <tr>\n",
       "      <th>3</th>\n",
       "      <td>949d5b44dbf5de918fe9c16f97b45f8a</td>\n",
       "      <td>13.0</td>\n",
       "      <td>sao goncalo do amarante</td>\n",
       "    </tr>\n",
       "    <tr>\n",
       "      <th>4</th>\n",
       "      <td>ad21c59c0840e6cb83a9ceb5573f8159</td>\n",
       "      <td>2.0</td>\n",
       "      <td>santo andre</td>\n",
       "    </tr>\n",
       "  </tbody>\n",
       "</table>\n",
       "</div>"
      ],
      "text/plain": [
       "                           order_id  delivery_time            customer_city\n",
       "0  e481f51cbdc54678b7cc49136f2d6af7            8.0                sao paulo\n",
       "1  53cdb2fc8bc7dce0b6741e2150273451           12.0                barreiras\n",
       "2  47770eb9100c2d0c44946d9cf07ec65d            9.0               vianopolis\n",
       "3  949d5b44dbf5de918fe9c16f97b45f8a           13.0  sao goncalo do amarante\n",
       "4  ad21c59c0840e6cb83a9ceb5573f8159            2.0              santo andre"
      ]
     },
     "execution_count": 46,
     "metadata": {},
     "output_type": "execute_result"
    }
   ],
   "source": [
    "orders_customers = pd.merge(orders, customers, on='customer_id', how='inner')\n",
    "\n",
    "orders_customers[['order_id', 'delivery_time', 'customer_city']].head()"
   ]
  },
  {
   "cell_type": "code",
   "execution_count": 47,
   "id": "25bdaa96-7cbb-4f02-a568-a545b3c722a3",
   "metadata": {},
   "outputs": [
    {
     "data": {
      "text/plain": [
       "customer_city\n",
       "novo brasil            148.00\n",
       "capinzal do norte      108.50\n",
       "adhemar de barros       96.00\n",
       "arace                   85.75\n",
       "marcelino vieira        77.00\n",
       "serra dos dourados      73.00\n",
       "aramari                 73.00\n",
       "humildes                71.00\n",
       "santa cruz de goias     66.50\n",
       "machadinho              65.00\n",
       "Name: delivery_time, dtype: float64"
      ]
     },
     "execution_count": 47,
     "metadata": {},
     "output_type": "execute_result"
    }
   ],
   "source": [
    "city_delivery = orders_customers.groupby('customer_city')['delivery_time'].mean().sort_values(ascending=False)\n",
    "\n",
    "city_delivery.head(10)"
   ]
  },
  {
   "cell_type": "code",
   "execution_count": 48,
   "id": "5b06dd30-df32-420c-8de3-c52c42a9daa5",
   "metadata": {},
   "outputs": [
    {
     "name": "stderr",
     "output_type": "stream",
     "text": [
      "/tmp/ipykernel_25420/1905741769.py:4: FutureWarning: \n",
      "\n",
      "Passing `palette` without assigning `hue` is deprecated and will be removed in v0.14.0. Assign the `y` variable to `hue` and set `legend=False` for the same effect.\n",
      "\n",
      "  sns.barplot(x=top_cities.values, y=top_cities.index, palette='Reds_r')\n"
     ]
    },
    {
     "data": {
      "image/png": "[encoded data removed]",
      "text/plain": [
       "<Figure size 1200x600 with 1 Axes>"
      ]
     },
     "metadata": {},
     "output_type": "display_data"
    }
   ],
   "source": [
    "top_cities = city_delivery.head(10)\n",
    "\n",
    "plt.figure(figsize=(12,6))\n",
    "sns.barplot(x=top_cities.values, y=top_cities.index, palette='Reds_r')\n",
    "plt.title('Top 10 ciudades con mayor tiempo promedio de entrega')\n",
    "plt.xlabel('Días promedio de entrega')\n",
    "plt.ylabel('Ciudad')\n",
    "plt.grid(True)\n",
    "plt.show()"
   ]
  },
  {
   "cell_type": "code",
   "execution_count": null,
   "id": "b5d77c84-1e5f-4bfc-83a9-2c8c38a56023",
   "metadata": {},
   "outputs": [],
   "source": []
  }
 ],
 "metadata": {
  "kernelspec": {
   "display_name": "Python 3 (ipykernel)",
   "language": "python",
   "name": "python3"
  },
  "language_info": {
   "codemirror_mode": {
    "name": "ipython",
    "version": 3
   },
   "file_extension": ".py",
   "mimetype": "text/x-python",
   "name": "python",
   "nbconvert_exporter": "python",
   "pygments_lexer": "ipython3",
   "version": "3.12.7"
  }
 },
 "nbformat": 4,
 "nbformat_minor": 5
}
